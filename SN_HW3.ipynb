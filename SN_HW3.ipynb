{
 "cells": [
  {
   "cell_type": "code",
   "execution_count": 3,
   "metadata": {},
   "outputs": [],
   "source": [
    "import numpy as np\n",
    "import struct\n",
    "import matplotlib.pyplot as plt\n",
    "import os\n",
    "import io\n",
    "import struct\n",
    "import math"
   ]
  },
  {
   "cell_type": "code",
   "execution_count": 4,
   "metadata": {},
   "outputs": [],
   "source": [
    "import idx2numpy  # For loading IDX-format MNIST data\n",
    "import numpy as np\n",
    "import matplotlib.pyplot as plt\n",
    "import math\n",
    "import pandas as pd\n",
    "from tqdm import trange  # Progress bar for iterations\n",
    "from sklearn.mixture import GaussianMixture  # Benchmark/comparison model"
   ]
  },
  {
   "cell_type": "code",
   "execution_count": 5,
   "metadata": {},
   "outputs": [
    {
     "name": "stdout",
     "output_type": "stream",
     "text": [
      "['t10k-images-idx3-ubyte', 'train-labels.idx1-ubyte', 'train-images.idx3-ubyte', 't10k-labels-idx1-ubyte', 'train-images-idx3-ubyte', 't10k-labels.idx1-ubyte', 't10k-images.idx3-ubyte', 'train-labels-idx1-ubyte']\n"
     ]
    }
   ],
   "source": [
    "# Set your MNIST directory\n",
    "mnist_path = \"/Users/shawheennaderi/Downloads/MNIST\"\n",
    "\n",
    "# Show file list to confirm visibility\n",
    "print(os.listdir(mnist_path))\n"
   ]
  },
  {
   "cell_type": "code",
   "execution_count": 6,
   "metadata": {},
   "outputs": [
    {
     "data": {
      "image/png": "[encoded data removed]",
      "text/plain": [
       "<Figure size 640x480 with 1 Axes>"
      ]
     },
     "metadata": {},
     "output_type": "display_data"
    }
   ],
   "source": [
    "# -----------------------------------------------------------------------------\n",
    "# 1. Data Loading & Preprocessing\n",
    "# -----------------------------------------------------------------------------\n",
    "# Load original MNIST images and labels\n",
    "# Load original MNIST images and labels\n",
    "images_ori = idx2numpy.convert_from_file(os.path.join(mnist_path, 'train-images.idx3-ubyte'))\n",
    "labels_ori = idx2numpy.convert_from_file(os.path.join(mnist_path, 'train-labels.idx1-ubyte'))\n",
    "\n",
    "# Filter to only digits 0-4 for a 5-class problem\n",
    "images = images_ori[labels_ori < 5]\n",
    "labels = labels_ori[labels_ori < 5]\n",
    "\n",
    "\n",
    "# Perform 2×2 average pooling to reduce 28×28 -> 14×14\n",
    "n_samples = images.shape[0]\n",
    "images_simple = np.zeros((n_samples, 14, 14))\n",
    "for i in range(14):\n",
    "    for j in range(14):\n",
    "        # Average the 4 pixels in each non-overlapping block\n",
    "        block = images[:, 2*i:2*i+2, 2*j:2*j+2]\n",
    "        images_simple[:, i, j] = block.mean(axis=(1, 2))\n",
    "\n",
    "# Optional: display a sample image to verify pooling\n",
    "\n",
    "plt.imshow(images_simple[15], cmap='gray')\n",
    "#plt.savefig('fig1.png', bbox_inches='tight')\n",
    "plt.show()\n",
    "\n",
    "# Flatten pooled images into feature vectors (n_samples, 196)\n",
    "X = images_simple.reshape(n_samples, -1)\n"
   ]
  },
  {
   "cell_type": "code",
   "execution_count": 7,
   "metadata": {},
   "outputs": [],
   "source": [
    "# -----------------------------------------------------------------------------\n",
    "# 2. Helper Functions: softmax & log-sum-exp\n",
    "# -----------------------------------------------------------------------------\n",
    "\n",
    "def softmax(X: np.ndarray, axis: int = None) -> np.ndarray:\n",
    "    \"\"\"\n",
    "    Numerically stable softmax.\n",
    "    Subtracts max along axis to avoid overflow.\n",
    "    \"\"\"\n",
    "    # Shift inputs by max for numerical stability\n",
    "    X_max = np.max(X, axis=axis, keepdims=True)\n",
    "    exps = np.exp(X - X_max)\n",
    "    return exps / np.sum(exps, axis=axis, keepdims=True)\n",
    "\n",
    "\n",
    "def logsumexp(X: np.ndarray, axis: int = None) -> np.ndarray:\n",
    "    \"\"\"\n",
    "    Compute log(sum(exp(X))) in a numerically stable way.\n",
    "    \"\"\"\n",
    "    X_max = np.max(X, axis=axis, keepdims=True)\n",
    "    exps = np.exp(X - X_max)\n",
    "    return np.log(np.sum(exps, axis=axis, keepdims=True)) + X_max"
   ]
  },
  {
   "cell_type": "code",
   "execution_count": 8,
   "metadata": {},
   "outputs": [],
   "source": [
    "# 3. EM Algorithm for Gaussian Mixture Models\n",
    "# -----------------------------------------------------------------------------\n",
    "\n",
    "def EM_update(\n",
    "    X: np.ndarray,\n",
    "    num_components: int,\n",
    "    cov_type: int,\n",
    "    max_iter: int = 100,\n",
    "    correction: float = 0.05\n",
    ") -> np.ndarray:\n",
    "    \"\"\"\n",
    "    Perform EM to fit a Gaussian Mixture Model from scratch.\n",
    "\n",
    "    Parameters:\n",
    "        X (n, d)         : Data matrix (flattened images)\n",
    "        num_components   : Number of Gaussian clusters (m)\n",
    "        cov_type         : 1 = diagonal covariance, else spherical\n",
    "        max_iter         : Maximum EM iterations\n",
    "        correction       : Diagonal regularization for covariance\n",
    "\n",
    "    Returns:\n",
    "        responsibilities (n, m) : Final soft assignments of points to clusters\n",
    "    \"\"\"\n",
    "    n, d = X.shape\n",
    "\n",
    "    # --- Initialization ---\n",
    "    # Initialize means near the global mean plus small noise\n",
    "    global_mean = np.mean(X, axis=0, keepdims=True)\n",
    "    mu = np.repeat(global_mean, num_components, axis=0) + np.random.randn(num_components, d)\n",
    "\n",
    "    # Start with uniform responsibilities and weights\n",
    "    responsibilities = np.full((n, num_components), 1.0 / num_components)\n",
    "    pi = np.full(num_components, 1.0 / num_components)\n",
    "\n",
    "    # Initialize covariances (m, d) matrix for diagonal or spherical\n",
    "    var_X = np.var(X, axis=0, keepdims=True)  # (1, d)\n",
    "    sigma = np.abs(\n",
    "        np.repeat(var_X, num_components, axis=0) * (1 + np.random.randn(num_components, d))\n",
    "    ) + correction\n",
    "\n",
    "    log_likelihood_prev = -np.inf\n",
    "\n",
    "    # EM iterations with a progress bar\n",
    "    with trange(max_iter, desc='EM') as pbar:\n",
    "        for _ in pbar:\n",
    "            # --- E-step: compute log-probabilities ---\n",
    "            # constant term: log(pi_k) - 0.5 * sum(log(sigma_k)) - (d/2) * log(2π)\n",
    "            log_pi = np.log(pi)\n",
    "            log_det = -0.5 * np.sum(np.log(sigma), axis=1)\n",
    "            constant = log_pi + log_det - (d / 2) * np.log(2 * math.pi)\n",
    "\n",
    "            # compute squared Mahalanobis distances: (x - mu_k)^2 / sigma_k\n",
    "            diff = X[:, :, None] - mu.T[None, :, :]  # shape: (n, d, m)\n",
    "            sq_maha = -0.5 * np.sum(diff**2 / sigma.T[None, :, :], axis=1)\n",
    "\n",
    "            # log-prob matrix: (n, m)\n",
    "            log_prob = sq_maha + constant\n",
    "\n",
    "            # responsibilities (n, m)\n",
    "            responsibilities = softmax(log_prob, axis=1)\n",
    "\n",
    "            # Log-likelihood of data under mixture\n",
    "            ll = np.sum(logsumexp(log_prob, axis=1))\n",
    "            pbar.set_postfix({'LL': f'{ll:.2f}'})\n",
    "\n",
    "            # Convergence check\n",
    "            if np.abs(ll - log_likelihood_prev) < 1e-4 * np.abs(log_likelihood_prev):\n",
    "                break\n",
    "            log_likelihood_prev = ll\n",
    "\n",
    "            # --- M-step: update parameters ---\n",
    "            Nk = responsibilities.sum(axis=0)  # effective counts (m,)\n",
    "            pi = Nk / n\n",
    "\n",
    "            # Update means: weighted average\n",
    "            for k in range(num_components):\n",
    "                mu[k] = np.average(X, axis=0, weights=responsibilities[:, k])\n",
    "\n",
    "            # Update covariances\n",
    "            if cov_type == 1:\n",
    "                # diagonal covariance: update each dimension separately\n",
    "                for k in range(num_components):\n",
    "                    diff_k = X - mu[k]\n",
    "                    sigma[k] = np.average(diff_k**2, axis=0, weights=responsibilities[:, k])\n",
    "                sigma += correction\n",
    "            else:\n",
    "                # spherical covariance: single variance per component\n",
    "                for k in range(num_components):\n",
    "                    diff_k = X - mu[k]\n",
    "                    var_spherical = np.sum(responsibilities[:, k] * np.sum(diff_k**2, axis=1))\n",
    "                    sigma[k, :] = var_spherical / (Nk[k] * d)\n",
    "                sigma += correction\n",
    "\n",
    "    return responsibilities, mu\n",
    "\n"
   ]
  },
  {
   "cell_type": "code",
   "execution_count": 9,
   "metadata": {},
   "outputs": [],
   "source": [
    "def run_em_multiple_times(X, num_components=5, cov_type=0, max_iter=100, correction=0.05, num_runs=3):\n",
    "    best_ll = -np.inf\n",
    "    best_resp = None\n",
    "    best_mu = None\n",
    "    best_assignments = None\n",
    "\n",
    "    for run in range(num_runs):\n",
    "        print(f\"\\n=== EM Run {run + 1} ===\")\n",
    "        resp, mu = EM_update(X, num_components, cov_type, max_iter, correction)\n",
    "        ll = np.sum(np.log(np.sum(resp, axis=1)))  # Crude estimate\n",
    "        assignments = np.argmax(resp, axis=1)\n",
    "\n",
    "        if ll > best_ll:\n",
    "            best_ll = ll\n",
    "            best_resp = resp\n",
    "            best_assignments = assignments\n",
    "            best_mu = mu\n",
    "\n",
    "    return best_resp, best_assignments, best_mu, best_ll\n"
   ]
  },
  {
   "cell_type": "code",
   "execution_count": 10,
   "metadata": {},
   "outputs": [],
   "source": [
    "X = X / 255.0 # (normalize inputs)\n"
   ]
  },
  {
   "cell_type": "code",
   "execution_count": 11,
   "metadata": {},
   "outputs": [
    {
     "name": "stdout",
     "output_type": "stream",
     "text": [
      "\n",
      "=== EM Run 1 ===\n"
     ]
    },
    {
     "name": "stderr",
     "output_type": "stream",
     "text": [
      "EM:  20%|██        | 20/100 [00:05<00:20,  3.98it/s, LL=441699.84]  \n"
     ]
    },
    {
     "name": "stdout",
     "output_type": "stream",
     "text": [
      "\n",
      "=== EM Run 2 ===\n"
     ]
    },
    {
     "name": "stderr",
     "output_type": "stream",
     "text": [
      "EM:  25%|██▌       | 25/100 [00:06<00:18,  4.12it/s, LL=441596.14]  \n"
     ]
    },
    {
     "name": "stdout",
     "output_type": "stream",
     "text": [
      "\n",
      "=== EM Run 3 ===\n"
     ]
    },
    {
     "name": "stderr",
     "output_type": "stream",
     "text": [
      "EM:  19%|█▉        | 19/100 [00:04<00:18,  4.30it/s, LL=328308.54]  \n"
     ]
    },
    {
     "name": "stdout",
     "output_type": "stream",
     "text": [
      "\n",
      "=== EM Run 1 ===\n"
     ]
    },
    {
     "name": "stderr",
     "output_type": "stream",
     "text": [
      "EM:  19%|█▉        | 19/100 [00:06<00:26,  3.10it/s, LL=1318238.97] \n"
     ]
    },
    {
     "name": "stdout",
     "output_type": "stream",
     "text": [
      "\n",
      "=== EM Run 2 ===\n"
     ]
    },
    {
     "name": "stderr",
     "output_type": "stream",
     "text": [
      "EM:  22%|██▏       | 22/100 [00:05<00:19,  3.99it/s, LL=1317544.06] \n"
     ]
    },
    {
     "name": "stdout",
     "output_type": "stream",
     "text": [
      "\n",
      "=== EM Run 3 ===\n"
     ]
    },
    {
     "name": "stderr",
     "output_type": "stream",
     "text": [
      "EM:  38%|███▊      | 38/100 [00:10<00:17,  3.48it/s, LL=1318030.74] \n"
     ]
    }
   ],
   "source": [
    "resp_sph, assign_sph, mu_sph, ll_sph = run_em_multiple_times(X, cov_type=0)  # Spherical\n",
    "resp_diag, assign_diag, mu_diag, ll_diag = run_em_multiple_times(X, cov_type=1)  # Diagonal\n"
   ]
  },
  {
   "cell_type": "code",
   "execution_count": 12,
   "metadata": {},
   "outputs": [],
   "source": [
    "from scipy.optimize import linear_sum_assignment\n",
    "from sklearn.metrics import confusion_matrix\n",
    "\n",
    "def clustering_error(true_labels, predicted_labels):\n",
    "    conf_mat = confusion_matrix(true_labels, predicted_labels)\n",
    "    row_ind, col_ind = linear_sum_assignment(-conf_mat)  # maximize correct matches\n",
    "    optimal_mapping = dict(zip(col_ind, row_ind))\n",
    "    remapped_preds = np.array([optimal_mapping[p] for p in predicted_labels])\n",
    "    error = np.mean(remapped_preds != true_labels)\n",
    "    return error\n"
   ]
  },
  {
   "cell_type": "code",
   "execution_count": 13,
   "metadata": {},
   "outputs": [
    {
     "name": "stdout",
     "output_type": "stream",
     "text": [
      "Spherical GMM Clustering Error: 0.1904\n",
      "Diagonal GMM Clustering Error: 0.2010\n"
     ]
    }
   ],
   "source": [
    "error_sph = clustering_error(labels, assign_sph)\n",
    "error_diag = clustering_error(labels, assign_diag)\n",
    "\n",
    "print(f\"Spherical GMM Clustering Error: {error_sph:.4f}\")\n",
    "print(f\"Diagonal GMM Clustering Error: {error_diag:.4f}\")\n"
   ]
  },
  {
   "cell_type": "code",
   "execution_count": null,
   "metadata": {},
   "outputs": [],
   "source": []
  },
  {
   "cell_type": "code",
   "execution_count": 14,
   "metadata": {},
   "outputs": [],
   "source": [
    "import matplotlib.pyplot as plt\n",
    "\n",
    "def plot_cluster_means(mu, title):\n",
    "    \"\"\"\n",
    "    Visualize cluster means as 14×14 grayscale images.\n",
    "    Assumes mu shape is (k, 196) and columns are stacked (Fortran order).\n",
    "    \"\"\"\n",
    "    k = mu.shape[0]\n",
    "    fig, axes = plt.subplots(1, k, figsize=(12, 3))\n",
    "    for i in range(k):\n",
    "        img = mu[i].reshape(14, 14, order='F')  # column-wise reshaping\n",
    "        axes[i].imshow(img, cmap='gray')\n",
    "        axes[i].axis('off')\n",
    "        axes[i].set_title(f\"Cluster {i}\")\n",
    "    plt.suptitle(title)\n",
    "    plt.show()\n"
   ]
  },
  {
   "cell_type": "code",
   "execution_count": 15,
   "metadata": {},
   "outputs": [
    {
     "data": {
      "image/png": "[encoded data removed]",
      "text/plain": [
       "<Figure size 1200x300 with 5 Axes>"
      ]
     },
     "metadata": {},
     "output_type": "display_data"
    },
    {
     "data": {
      "image/png": "[encoded data removed]",
      "text/plain": [
       "<Figure size 1200x300 with 5 Axes>"
      ]
     },
     "metadata": {},
     "output_type": "display_data"
    }
   ],
   "source": [
    "plot_cluster_means(mu_sph, \"Spherical GMM Cluster Means\")\n",
    "plot_cluster_means(mu_diag, \"Diagonal GMM Cluster Means\")\n"
   ]
  }
 ],
 "metadata": {
  "kernelspec": {
   "display_name": "myenv",
   "language": "python",
   "name": "python3"
  },
  "language_info": {
   "codemirror_mode": {
    "name": "ipython",
    "version": 3
   },
   "file_extension": ".py",
   "mimetype": "text/x-python",
   "name": "python",
   "nbconvert_exporter": "python",
   "pygments_lexer": "ipython3",
   "version": "3.9.18"
  }
 },
 "nbformat": 4,
 "nbformat_minor": 2
}
