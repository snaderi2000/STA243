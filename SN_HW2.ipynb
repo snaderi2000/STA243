{
 "cells": [
  {
   "cell_type": "code",
   "execution_count": 133,
   "metadata": {},
   "outputs": [],
   "source": [
    "import pandas as pd\n",
    "import numpy as np\n",
    "#from google.colab import files\n",
    "import io\n",
    "import statsmodels.api as sm\n",
    "from numpy import linalg as LA\n",
    "from sklearn.metrics import r2_score\n",
    "import matplotlib.pyplot as plt "
   ]
  },
  {
   "cell_type": "code",
   "execution_count": 134,
   "metadata": {},
   "outputs": [],
   "source": [
    "df_train = pd.read_csv(\"/Users/shawheennaderi/Downloads/train.data.csv\")\n",
    "df_test = pd.read_csv(\"/Users/shawheennaderi/Downloads/test.data.csv\") \n",
    "BG = pd.read_csv(\"/Users/shawheennaderi/Downloads/fancyhouse.csv\")  "
   ]
  },
  {
   "cell_type": "code",
   "execution_count": 135,
   "metadata": {},
   "outputs": [],
   "source": [
    "df_train = df_train.drop(['Unnamed: 0'], axis=1)\n",
    "df_test = df_test.drop(['Unnamed: 0'], axis=1)"
   ]
  },
  {
   "cell_type": "code",
   "execution_count": 136,
   "metadata": {},
   "outputs": [
    {
     "data": {
      "text/html": [
       "<div>\n",
       "<style scoped>\n",
       "    .dataframe tbody tr th:only-of-type {\n",
       "        vertical-align: middle;\n",
       "    }\n",
       "\n",
       "    .dataframe tbody tr th {\n",
       "        vertical-align: top;\n",
       "    }\n",
       "\n",
       "    .dataframe thead th {\n",
       "        text-align: right;\n",
       "    }\n",
       "</style>\n",
       "<table border=\"1\" class=\"dataframe\">\n",
       "  <thead>\n",
       "    <tr style=\"text-align: right;\">\n",
       "      <th></th>\n",
       "      <th>id</th>\n",
       "      <th>date</th>\n",
       "      <th>price</th>\n",
       "      <th>bedrooms</th>\n",
       "      <th>bathrooms</th>\n",
       "      <th>sqft_living</th>\n",
       "      <th>sqft_lot</th>\n",
       "      <th>floors</th>\n",
       "      <th>waterfront</th>\n",
       "      <th>view</th>\n",
       "      <th>...</th>\n",
       "      <th>grade</th>\n",
       "      <th>sqft_above</th>\n",
       "      <th>sqft_basement</th>\n",
       "      <th>yr_built</th>\n",
       "      <th>yr_renovated</th>\n",
       "      <th>zipcode</th>\n",
       "      <th>lat</th>\n",
       "      <th>long</th>\n",
       "      <th>sqft_living15</th>\n",
       "      <th>sqft_lot15</th>\n",
       "    </tr>\n",
       "  </thead>\n",
       "  <tbody>\n",
       "    <tr>\n",
       "      <th>0</th>\n",
       "      <td>6414100192</td>\n",
       "      <td>20141209T000000</td>\n",
       "      <td>538000</td>\n",
       "      <td>3</td>\n",
       "      <td>2.25</td>\n",
       "      <td>2570</td>\n",
       "      <td>7242</td>\n",
       "      <td>2.0</td>\n",
       "      <td>0</td>\n",
       "      <td>0</td>\n",
       "      <td>...</td>\n",
       "      <td>7</td>\n",
       "      <td>2170</td>\n",
       "      <td>400</td>\n",
       "      <td>1951</td>\n",
       "      <td>1991</td>\n",
       "      <td>98125</td>\n",
       "      <td>47.7210</td>\n",
       "      <td>-122.319</td>\n",
       "      <td>1690</td>\n",
       "      <td>7639</td>\n",
       "    </tr>\n",
       "    <tr>\n",
       "      <th>1</th>\n",
       "      <td>2487200875</td>\n",
       "      <td>20141209T000000</td>\n",
       "      <td>604000</td>\n",
       "      <td>4</td>\n",
       "      <td>3.00</td>\n",
       "      <td>1960</td>\n",
       "      <td>5000</td>\n",
       "      <td>1.0</td>\n",
       "      <td>0</td>\n",
       "      <td>0</td>\n",
       "      <td>...</td>\n",
       "      <td>7</td>\n",
       "      <td>1050</td>\n",
       "      <td>910</td>\n",
       "      <td>1965</td>\n",
       "      <td>0</td>\n",
       "      <td>98136</td>\n",
       "      <td>47.5208</td>\n",
       "      <td>-122.393</td>\n",
       "      <td>1360</td>\n",
       "      <td>5000</td>\n",
       "    </tr>\n",
       "    <tr>\n",
       "      <th>2</th>\n",
       "      <td>1954400510</td>\n",
       "      <td>20150218T000000</td>\n",
       "      <td>510000</td>\n",
       "      <td>3</td>\n",
       "      <td>2.00</td>\n",
       "      <td>1680</td>\n",
       "      <td>8080</td>\n",
       "      <td>1.0</td>\n",
       "      <td>0</td>\n",
       "      <td>0</td>\n",
       "      <td>...</td>\n",
       "      <td>8</td>\n",
       "      <td>1680</td>\n",
       "      <td>0</td>\n",
       "      <td>1987</td>\n",
       "      <td>0</td>\n",
       "      <td>98074</td>\n",
       "      <td>47.6168</td>\n",
       "      <td>-122.045</td>\n",
       "      <td>1800</td>\n",
       "      <td>7503</td>\n",
       "    </tr>\n",
       "    <tr>\n",
       "      <th>3</th>\n",
       "      <td>7237550310</td>\n",
       "      <td>20140512T000000</td>\n",
       "      <td>1225000</td>\n",
       "      <td>4</td>\n",
       "      <td>4.50</td>\n",
       "      <td>5420</td>\n",
       "      <td>101930</td>\n",
       "      <td>1.0</td>\n",
       "      <td>0</td>\n",
       "      <td>0</td>\n",
       "      <td>...</td>\n",
       "      <td>11</td>\n",
       "      <td>3890</td>\n",
       "      <td>1530</td>\n",
       "      <td>2001</td>\n",
       "      <td>0</td>\n",
       "      <td>98053</td>\n",
       "      <td>47.6561</td>\n",
       "      <td>-122.005</td>\n",
       "      <td>4760</td>\n",
       "      <td>101930</td>\n",
       "    </tr>\n",
       "    <tr>\n",
       "      <th>4</th>\n",
       "      <td>1321400060</td>\n",
       "      <td>20140627T000000</td>\n",
       "      <td>257500</td>\n",
       "      <td>3</td>\n",
       "      <td>2.25</td>\n",
       "      <td>1715</td>\n",
       "      <td>6819</td>\n",
       "      <td>2.0</td>\n",
       "      <td>0</td>\n",
       "      <td>0</td>\n",
       "      <td>...</td>\n",
       "      <td>7</td>\n",
       "      <td>1715</td>\n",
       "      <td>0</td>\n",
       "      <td>1995</td>\n",
       "      <td>0</td>\n",
       "      <td>98003</td>\n",
       "      <td>47.3097</td>\n",
       "      <td>-122.327</td>\n",
       "      <td>2238</td>\n",
       "      <td>6819</td>\n",
       "    </tr>\n",
       "  </tbody>\n",
       "</table>\n",
       "<p>5 rows × 21 columns</p>\n",
       "</div>"
      ],
      "text/plain": [
       "           id             date    price  bedrooms  bathrooms  sqft_living  \\\n",
       "0  6414100192  20141209T000000   538000         3       2.25         2570   \n",
       "1  2487200875  20141209T000000   604000         4       3.00         1960   \n",
       "2  1954400510  20150218T000000   510000         3       2.00         1680   \n",
       "3  7237550310  20140512T000000  1225000         4       4.50         5420   \n",
       "4  1321400060  20140627T000000   257500         3       2.25         1715   \n",
       "\n",
       "   sqft_lot  floors  waterfront  view  ...  grade  sqft_above  sqft_basement  \\\n",
       "0      7242     2.0           0     0  ...      7        2170            400   \n",
       "1      5000     1.0           0     0  ...      7        1050            910   \n",
       "2      8080     1.0           0     0  ...      8        1680              0   \n",
       "3    101930     1.0           0     0  ...     11        3890           1530   \n",
       "4      6819     2.0           0     0  ...      7        1715              0   \n",
       "\n",
       "   yr_built  yr_renovated  zipcode      lat     long  sqft_living15  \\\n",
       "0      1951          1991    98125  47.7210 -122.319           1690   \n",
       "1      1965             0    98136  47.5208 -122.393           1360   \n",
       "2      1987             0    98074  47.6168 -122.045           1800   \n",
       "3      2001             0    98053  47.6561 -122.005           4760   \n",
       "4      1995             0    98003  47.3097 -122.327           2238   \n",
       "\n",
       "   sqft_lot15  \n",
       "0        7639  \n",
       "1        5000  \n",
       "2        7503  \n",
       "3      101930  \n",
       "4        6819  \n",
       "\n",
       "[5 rows x 21 columns]"
      ]
     },
     "execution_count": 136,
     "metadata": {},
     "output_type": "execute_result"
    }
   ],
   "source": [
    "df_train.head()"
   ]
  },
  {
   "cell_type": "markdown",
   "metadata": {},
   "source": [
    "### Part A"
   ]
  },
  {
   "cell_type": "code",
   "execution_count": 137,
   "metadata": {},
   "outputs": [],
   "source": [
    "X_name = ['bedrooms' , 'bathrooms' , 'sqft_living' , 'sqft_lot']\n",
    "X_train = df_train.loc[:,X_name]\n",
    "X_train = sm.add_constant(X_train)\n",
    "y_train = df_train.loc[:,'price']\n",
    "\n",
    "X_test = df_test.loc[:,X_name]\n",
    "X_test = sm.add_constant(X_test)\n",
    "y_test = df_test.loc[:,'price']"
   ]
  },
  {
   "cell_type": "code",
   "execution_count": 138,
   "metadata": {},
   "outputs": [
    {
     "data": {
      "text/html": [
       "<table class=\"simpletable\">\n",
       "<caption>OLS Regression Results</caption>\n",
       "<tr>\n",
       "  <th>Dep. Variable:</th>          <td>price</td>      <th>  R-squared:         </th>  <td>   0.510</td>  \n",
       "</tr>\n",
       "<tr>\n",
       "  <th>Model:</th>                   <td>OLS</td>       <th>  Adj. R-squared:    </th>  <td>   0.510</td>  \n",
       "</tr>\n",
       "<tr>\n",
       "  <th>Method:</th>             <td>Least Squares</td>  <th>  F-statistic:       </th>  <td>   3937.</td>  \n",
       "</tr>\n",
       "<tr>\n",
       "  <th>Date:</th>             <td>Tue, 06 May 2025</td> <th>  Prob (F-statistic):</th>   <td>  0.00</td>   \n",
       "</tr>\n",
       "<tr>\n",
       "  <th>Time:</th>                 <td>14:56:34</td>     <th>  Log-Likelihood:    </th> <td>-2.0994e+05</td>\n",
       "</tr>\n",
       "<tr>\n",
       "  <th>No. Observations:</th>      <td> 15129</td>      <th>  AIC:               </th>  <td>4.199e+05</td> \n",
       "</tr>\n",
       "<tr>\n",
       "  <th>Df Residuals:</th>          <td> 15124</td>      <th>  BIC:               </th>  <td>4.199e+05</td> \n",
       "</tr>\n",
       "<tr>\n",
       "  <th>Df Model:</th>              <td>     4</td>      <th>                     </th>      <td> </td>     \n",
       "</tr>\n",
       "<tr>\n",
       "  <th>Covariance Type:</th>      <td>nonrobust</td>    <th>                     </th>      <td> </td>     \n",
       "</tr>\n",
       "</table>\n",
       "<table class=\"simpletable\">\n",
       "<tr>\n",
       "       <td></td>          <th>coef</th>     <th>std err</th>      <th>t</th>      <th>P>|t|</th>  <th>[0.025</th>    <th>0.975]</th>  \n",
       "</tr>\n",
       "<tr>\n",
       "  <th>const</th>       <td> 8.083e+04</td> <td> 8208.136</td> <td>    9.848</td> <td> 0.000</td> <td> 6.47e+04</td> <td> 9.69e+04</td>\n",
       "</tr>\n",
       "<tr>\n",
       "  <th>bedrooms</th>    <td> -5.93e+04</td> <td> 2753.246</td> <td>  -21.537</td> <td> 0.000</td> <td>-6.47e+04</td> <td>-5.39e+04</td>\n",
       "</tr>\n",
       "<tr>\n",
       "  <th>bathrooms</th>   <td> 3681.6562</td> <td> 4178.213</td> <td>    0.881</td> <td> 0.378</td> <td>-4508.146</td> <td> 1.19e+04</td>\n",
       "</tr>\n",
       "<tr>\n",
       "  <th>sqft_living</th> <td>  316.6857</td> <td>    3.750</td> <td>   84.442</td> <td> 0.000</td> <td>  309.335</td> <td>  324.037</td>\n",
       "</tr>\n",
       "<tr>\n",
       "  <th>sqft_lot</th>    <td>   -0.4267</td> <td>    0.055</td> <td>   -7.753</td> <td> 0.000</td> <td>   -0.535</td> <td>   -0.319</td>\n",
       "</tr>\n",
       "</table>\n",
       "<table class=\"simpletable\">\n",
       "<tr>\n",
       "  <th>Omnibus:</th>       <td>10367.299</td> <th>  Durbin-Watson:     </th>  <td>   1.990</td> \n",
       "</tr>\n",
       "<tr>\n",
       "  <th>Prob(Omnibus):</th>  <td> 0.000</td>   <th>  Jarque-Bera (JB):  </th> <td>367476.372</td>\n",
       "</tr>\n",
       "<tr>\n",
       "  <th>Skew:</th>           <td> 2.827</td>   <th>  Prob(JB):          </th>  <td>    0.00</td> \n",
       "</tr>\n",
       "<tr>\n",
       "  <th>Kurtosis:</th>       <td>26.473</td>   <th>  Cond. No.          </th>  <td>1.69e+05</td> \n",
       "</tr>\n",
       "</table><br/><br/>Notes:<br/>[1] Standard Errors assume that the covariance matrix of the errors is correctly specified.<br/>[2] The condition number is large, 1.69e+05. This might indicate that there are<br/>strong multicollinearity or other numerical problems."
      ],
      "text/latex": [
       "\\begin{center}\n",
       "\\begin{tabular}{lclc}\n",
       "\\toprule\n",
       "\\textbf{Dep. Variable:}    &      price       & \\textbf{  R-squared:         } &      0.510   \\\\\n",
       "\\textbf{Model:}            &       OLS        & \\textbf{  Adj. R-squared:    } &      0.510   \\\\\n",
       "\\textbf{Method:}           &  Least Squares   & \\textbf{  F-statistic:       } &      3937.   \\\\\n",
       "\\textbf{Date:}             & Tue, 06 May 2025 & \\textbf{  Prob (F-statistic):} &      0.00    \\\\\n",
       "\\textbf{Time:}             &     14:56:34     & \\textbf{  Log-Likelihood:    } & -2.0994e+05  \\\\\n",
       "\\textbf{No. Observations:} &       15129      & \\textbf{  AIC:               } &  4.199e+05   \\\\\n",
       "\\textbf{Df Residuals:}     &       15124      & \\textbf{  BIC:               } &  4.199e+05   \\\\\n",
       "\\textbf{Df Model:}         &           4      & \\textbf{                     } &              \\\\\n",
       "\\textbf{Covariance Type:}  &    nonrobust     & \\textbf{                     } &              \\\\\n",
       "\\bottomrule\n",
       "\\end{tabular}\n",
       "\\begin{tabular}{lcccccc}\n",
       "                      & \\textbf{coef} & \\textbf{std err} & \\textbf{t} & \\textbf{P$> |$t$|$} & \\textbf{[0.025} & \\textbf{0.975]}  \\\\\n",
       "\\midrule\n",
       "\\textbf{const}        &    8.083e+04  &     8208.136     &     9.848  &         0.000        &     6.47e+04    &     9.69e+04     \\\\\n",
       "\\textbf{bedrooms}     &    -5.93e+04  &     2753.246     &   -21.537  &         0.000        &    -6.47e+04    &    -5.39e+04     \\\\\n",
       "\\textbf{bathrooms}    &    3681.6562  &     4178.213     &     0.881  &         0.378        &    -4508.146    &     1.19e+04     \\\\\n",
       "\\textbf{sqft\\_living} &     316.6857  &        3.750     &    84.442  &         0.000        &      309.335    &      324.037     \\\\\n",
       "\\textbf{sqft\\_lot}    &      -0.4267  &        0.055     &    -7.753  &         0.000        &       -0.535    &       -0.319     \\\\\n",
       "\\bottomrule\n",
       "\\end{tabular}\n",
       "\\begin{tabular}{lclc}\n",
       "\\textbf{Omnibus:}       & 10367.299 & \\textbf{  Durbin-Watson:     } &     1.990   \\\\\n",
       "\\textbf{Prob(Omnibus):} &    0.000  & \\textbf{  Jarque-Bera (JB):  } & 367476.372  \\\\\n",
       "\\textbf{Skew:}          &    2.827  & \\textbf{  Prob(JB):          } &      0.00   \\\\\n",
       "\\textbf{Kurtosis:}      &   26.473  & \\textbf{  Cond. No.          } &  1.69e+05   \\\\\n",
       "\\bottomrule\n",
       "\\end{tabular}\n",
       "%\\caption{OLS Regression Results}\n",
       "\\end{center}\n",
       "\n",
       "Notes: \\newline\n",
       " [1] Standard Errors assume that the covariance matrix of the errors is correctly specified. \\newline\n",
       " [2] The condition number is large, 1.69e+05. This might indicate that there are \\newline\n",
       " strong multicollinearity or other numerical problems."
      ],
      "text/plain": [
       "<class 'statsmodels.iolib.summary.Summary'>\n",
       "\"\"\"\n",
       "                            OLS Regression Results                            \n",
       "==============================================================================\n",
       "Dep. Variable:                  price   R-squared:                       0.510\n",
       "Model:                            OLS   Adj. R-squared:                  0.510\n",
       "Method:                 Least Squares   F-statistic:                     3937.\n",
       "Date:                Tue, 06 May 2025   Prob (F-statistic):               0.00\n",
       "Time:                        14:56:34   Log-Likelihood:            -2.0994e+05\n",
       "No. Observations:               15129   AIC:                         4.199e+05\n",
       "Df Residuals:                   15124   BIC:                         4.199e+05\n",
       "Df Model:                           4                                         \n",
       "Covariance Type:            nonrobust                                         \n",
       "===============================================================================\n",
       "                  coef    std err          t      P>|t|      [0.025      0.975]\n",
       "-------------------------------------------------------------------------------\n",
       "const        8.083e+04   8208.136      9.848      0.000    6.47e+04    9.69e+04\n",
       "bedrooms     -5.93e+04   2753.246    -21.537      0.000   -6.47e+04   -5.39e+04\n",
       "bathrooms    3681.6562   4178.213      0.881      0.378   -4508.146    1.19e+04\n",
       "sqft_living   316.6857      3.750     84.442      0.000     309.335     324.037\n",
       "sqft_lot       -0.4267      0.055     -7.753      0.000      -0.535      -0.319\n",
       "==============================================================================\n",
       "Omnibus:                    10367.299   Durbin-Watson:                   1.990\n",
       "Prob(Omnibus):                  0.000   Jarque-Bera (JB):           367476.372\n",
       "Skew:                           2.827   Prob(JB):                         0.00\n",
       "Kurtosis:                      26.473   Cond. No.                     1.69e+05\n",
       "==============================================================================\n",
       "\n",
       "Notes:\n",
       "[1] Standard Errors assume that the covariance matrix of the errors is correctly specified.\n",
       "[2] The condition number is large, 1.69e+05. This might indicate that there are\n",
       "strong multicollinearity or other numerical problems.\n",
       "\"\"\""
      ]
     },
     "execution_count": 138,
     "metadata": {},
     "output_type": "execute_result"
    }
   ],
   "source": [
    "### linear regression on variable bedrooms + bathrooms + sqft_living + sqft_lot on train set\n",
    "lm1 = sm.OLS(y_train,X_train)\n",
    "results = lm1.fit()\n",
    "results.summary()"
   ]
  },
  {
   "cell_type": "code",
   "execution_count": 139,
   "metadata": {},
   "outputs": [
    {
     "name": "stdout",
     "output_type": "stream",
     "text": [
      "Training R²: 0.5101\n",
      "Testing R²: 0.5050\n"
     ]
    }
   ],
   "source": [
    "\n",
    "# Predict on the test set\n",
    "y_pred_test = results.predict(X_test)\n",
    "\n",
    "# Compute R² on test set using r2_score from sklearn\n",
    "test_r2 = r2_score(y_test, y_pred_test)\n",
    "\n",
    "# Print both\n",
    "print(f\"Training R²: {results.rsquared:.4f}\")\n",
    "print(f\"Testing R²: {test_r2:.4f}\")"
   ]
  },
  {
   "cell_type": "markdown",
   "metadata": {},
   "source": [
    "### Part B"
   ]
  },
  {
   "cell_type": "code",
   "execution_count": 140,
   "metadata": {},
   "outputs": [
    {
     "name": "stdout",
     "output_type": "stream",
     "text": [
      "price =  15436748.905\n",
      "   bedrooms  bathrooms  sqft_living  sqft_lot\n",
      "0         8         25        50000    225000\n"
     ]
    }
   ],
   "source": [
    "BG = BG.loc[:,X_name]\n",
    "BG_price = 8.083e+04+8*(-5.93e+04 )+25*3681.6562+50000*316.6857+225000*(-0.4267)\n",
    "print(\"price = \", BG_price)\n",
    "print(BG)\n"
   ]
  },
  {
   "cell_type": "markdown",
   "metadata": {},
   "source": [
    "The price being only around 15 million seems to be an underestimate, I think Bill Gates house value is actually over $100 million"
   ]
  },
  {
   "cell_type": "code",
   "execution_count": 141,
   "metadata": {},
   "outputs": [
    {
     "name": "stdout",
     "output_type": "stream",
     "text": [
      "3354.318140657016\n"
     ]
    }
   ],
   "source": [
    "\n",
    "print(np.mean(X_train))"
   ]
  },
  {
   "cell_type": "markdown",
   "metadata": {},
   "source": [
    "### Part C"
   ]
  },
  {
   "cell_type": "code",
   "execution_count": 142,
   "metadata": {},
   "outputs": [],
   "source": [
    "# Step 1: Copy the original\n",
    "X_train_new = X_train.copy()\n",
    "X_test_new = X_test.copy()\n",
    "\n",
    "# Step 2: Add the interaction feature\n",
    "X_train_new['bed_bath'] = X_train_new['bedrooms'] * X_train_new['bathrooms']\n",
    "X_test_new['bed_bath'] = X_test_new['bedrooms'] * X_test_new['bathrooms']\n"
   ]
  },
  {
   "cell_type": "code",
   "execution_count": 143,
   "metadata": {},
   "outputs": [
    {
     "data": {
      "text/html": [
       "<div>\n",
       "<style scoped>\n",
       "    .dataframe tbody tr th:only-of-type {\n",
       "        vertical-align: middle;\n",
       "    }\n",
       "\n",
       "    .dataframe tbody tr th {\n",
       "        vertical-align: top;\n",
       "    }\n",
       "\n",
       "    .dataframe thead th {\n",
       "        text-align: right;\n",
       "    }\n",
       "</style>\n",
       "<table border=\"1\" class=\"dataframe\">\n",
       "  <thead>\n",
       "    <tr style=\"text-align: right;\">\n",
       "      <th></th>\n",
       "      <th>const</th>\n",
       "      <th>bedrooms</th>\n",
       "      <th>bathrooms</th>\n",
       "      <th>sqft_living</th>\n",
       "      <th>sqft_lot</th>\n",
       "      <th>bed_bath</th>\n",
       "    </tr>\n",
       "  </thead>\n",
       "  <tbody>\n",
       "    <tr>\n",
       "      <th>0</th>\n",
       "      <td>1.0</td>\n",
       "      <td>3</td>\n",
       "      <td>1.00</td>\n",
       "      <td>1180</td>\n",
       "      <td>5650</td>\n",
       "      <td>3.00</td>\n",
       "    </tr>\n",
       "    <tr>\n",
       "      <th>1</th>\n",
       "      <td>1.0</td>\n",
       "      <td>2</td>\n",
       "      <td>1.00</td>\n",
       "      <td>770</td>\n",
       "      <td>10000</td>\n",
       "      <td>2.00</td>\n",
       "    </tr>\n",
       "    <tr>\n",
       "      <th>2</th>\n",
       "      <td>1.0</td>\n",
       "      <td>3</td>\n",
       "      <td>2.50</td>\n",
       "      <td>3560</td>\n",
       "      <td>9796</td>\n",
       "      <td>7.50</td>\n",
       "    </tr>\n",
       "    <tr>\n",
       "      <th>3</th>\n",
       "      <td>1.0</td>\n",
       "      <td>4</td>\n",
       "      <td>1.00</td>\n",
       "      <td>1600</td>\n",
       "      <td>4300</td>\n",
       "      <td>4.00</td>\n",
       "    </tr>\n",
       "    <tr>\n",
       "      <th>4</th>\n",
       "      <td>1.0</td>\n",
       "      <td>3</td>\n",
       "      <td>1.00</td>\n",
       "      <td>1250</td>\n",
       "      <td>9774</td>\n",
       "      <td>3.00</td>\n",
       "    </tr>\n",
       "    <tr>\n",
       "      <th>...</th>\n",
       "      <td>...</td>\n",
       "      <td>...</td>\n",
       "      <td>...</td>\n",
       "      <td>...</td>\n",
       "      <td>...</td>\n",
       "      <td>...</td>\n",
       "    </tr>\n",
       "    <tr>\n",
       "      <th>6479</th>\n",
       "      <td>1.0</td>\n",
       "      <td>2</td>\n",
       "      <td>2.25</td>\n",
       "      <td>1530</td>\n",
       "      <td>981</td>\n",
       "      <td>4.50</td>\n",
       "    </tr>\n",
       "    <tr>\n",
       "      <th>6480</th>\n",
       "      <td>1.0</td>\n",
       "      <td>5</td>\n",
       "      <td>3.75</td>\n",
       "      <td>4470</td>\n",
       "      <td>8088</td>\n",
       "      <td>18.75</td>\n",
       "    </tr>\n",
       "    <tr>\n",
       "      <th>6481</th>\n",
       "      <td>1.0</td>\n",
       "      <td>3</td>\n",
       "      <td>2.00</td>\n",
       "      <td>1490</td>\n",
       "      <td>1126</td>\n",
       "      <td>6.00</td>\n",
       "    </tr>\n",
       "    <tr>\n",
       "      <th>6482</th>\n",
       "      <td>1.0</td>\n",
       "      <td>4</td>\n",
       "      <td>2.50</td>\n",
       "      <td>2520</td>\n",
       "      <td>6023</td>\n",
       "      <td>10.00</td>\n",
       "    </tr>\n",
       "    <tr>\n",
       "      <th>6483</th>\n",
       "      <td>1.0</td>\n",
       "      <td>4</td>\n",
       "      <td>3.50</td>\n",
       "      <td>3510</td>\n",
       "      <td>7200</td>\n",
       "      <td>14.00</td>\n",
       "    </tr>\n",
       "  </tbody>\n",
       "</table>\n",
       "<p>6484 rows × 6 columns</p>\n",
       "</div>"
      ],
      "text/plain": [
       "      const  bedrooms  bathrooms  sqft_living  sqft_lot  bed_bath\n",
       "0       1.0         3       1.00         1180      5650      3.00\n",
       "1       1.0         2       1.00          770     10000      2.00\n",
       "2       1.0         3       2.50         3560      9796      7.50\n",
       "3       1.0         4       1.00         1600      4300      4.00\n",
       "4       1.0         3       1.00         1250      9774      3.00\n",
       "...     ...       ...        ...          ...       ...       ...\n",
       "6479    1.0         2       2.25         1530       981      4.50\n",
       "6480    1.0         5       3.75         4470      8088     18.75\n",
       "6481    1.0         3       2.00         1490      1126      6.00\n",
       "6482    1.0         4       2.50         2520      6023     10.00\n",
       "6483    1.0         4       3.50         3510      7200     14.00\n",
       "\n",
       "[6484 rows x 6 columns]"
      ]
     },
     "execution_count": 143,
     "metadata": {},
     "output_type": "execute_result"
    }
   ],
   "source": [
    "X_test_new"
   ]
  },
  {
   "cell_type": "code",
   "execution_count": null,
   "metadata": {},
   "outputs": [],
   "source": []
  },
  {
   "cell_type": "code",
   "execution_count": 144,
   "metadata": {},
   "outputs": [
    {
     "name": "stdout",
     "output_type": "stream",
     "text": [
      "                            OLS Regression Results                            \n",
      "==============================================================================\n",
      "Dep. Variable:                  price   R-squared:                       0.517\n",
      "Model:                            OLS   Adj. R-squared:                  0.517\n",
      "Method:                 Least Squares   F-statistic:                     3242.\n",
      "Date:                Tue, 06 May 2025   Prob (F-statistic):               0.00\n",
      "Time:                        14:56:34   Log-Likelihood:            -2.0982e+05\n",
      "No. Observations:               15129   AIC:                         4.197e+05\n",
      "Df Residuals:                   15123   BIC:                         4.197e+05\n",
      "Df Model:                           5                                         \n",
      "Covariance Type:            nonrobust                                         \n",
      "===============================================================================\n",
      "                  coef    std err          t      P>|t|      [0.025      0.975]\n",
      "-------------------------------------------------------------------------------\n",
      "const        3.208e+05   1.79e+04     17.927      0.000    2.86e+05    3.56e+05\n",
      "bedrooms    -1.287e+05   5357.922    -24.022      0.000   -1.39e+05   -1.18e+05\n",
      "bathrooms    -1.11e+05   8671.163    -12.802      0.000   -1.28e+05    -9.4e+04\n",
      "sqft_living   308.7248      3.760     82.108      0.000     301.355     316.095\n",
      "sqft_lot       -0.4246      0.055     -7.771      0.000      -0.532      -0.317\n",
      "bed_bath     3.375e+04   2241.111     15.061      0.000    2.94e+04    3.81e+04\n",
      "==============================================================================\n",
      "Omnibus:                     9551.944   Durbin-Watson:                   1.993\n",
      "Prob(Omnibus):                  0.000   Jarque-Bera (JB):           277174.692\n",
      "Skew:                           2.565   Prob(JB):                         0.00\n",
      "Kurtosis:                      23.332   Cond. No.                     4.03e+05\n",
      "==============================================================================\n",
      "\n",
      "Notes:\n",
      "[1] Standard Errors assume that the covariance matrix of the errors is correctly specified.\n",
      "[2] The condition number is large, 4.03e+05. This might indicate that there are\n",
      "strong multicollinearity or other numerical problems.\n"
     ]
    }
   ],
   "source": [
    "lm2 = sm.OLS(y_train, X_train_new)\n",
    "results2 = lm2.fit()\n",
    "print(results2.summary())\n"
   ]
  },
  {
   "cell_type": "code",
   "execution_count": 145,
   "metadata": {},
   "outputs": [
    {
     "name": "stdout",
     "output_type": "stream",
     "text": [
      "Training R²: 0.5174\n",
      "Testing R²: 0.5105\n"
     ]
    }
   ],
   "source": [
    "\n",
    "\n",
    "# Predict on the test set\n",
    "y_pred_test_new = results2.predict(X_test_new)\n",
    "\n",
    "# Compute R² on test set\n",
    "test_r2_new = r2_score(y_test, y_pred_test_new)\n",
    "\n",
    "# Print both\n",
    "print(f\"Training R²: {results2.rsquared:.4f}\")\n",
    "print(f\"Testing R²: {test_r2_new:.4f}\")\n"
   ]
  },
  {
   "cell_type": "markdown",
   "metadata": {},
   "source": [
    "### Part D"
   ]
  },
  {
   "cell_type": "markdown",
   "metadata": {},
   "source": [
    "We needed to change the code from discussion some because it was the version of numpy that was being used is outdated so the code had to be adjusted "
   ]
  },
  {
   "cell_type": "code",
   "execution_count": 146,
   "metadata": {},
   "outputs": [],
   "source": [
    "##Gradient descent\n",
    "def GD(X,y,iters):\n",
    "  n = y.shape[0]\n",
    "  ## initialize\n",
    "  epsilon = 0.0001\n",
    "  theta = np.asmatrix(np.random.normal(size=X.shape[1])).T\n",
    "  gradient = X.T*(X*theta-y)\n",
    "  ##Hessian\n",
    "  H = 2*X.T*X\n",
    "  w, v = LA.eig(H)\n",
    "  lambda_max = np.amax(w)\n",
    "  lambda_min = np.amin(w)\n",
    "  eta = 2/(lambda_max+lambda_min)\n",
    "  l2loss = [np.linalg.norm(y - X*theta,2)]\n",
    "  ##iteration\n",
    "  for i in np.arange(1, iters+1):\n",
    "    gradient = X.T*(X*theta-y)\n",
    "    theta = theta - eta * gradient\n",
    "    l2loss = np.append(l2loss,np.linalg.norm(y - X*theta,2))\n",
    "    if np.linalg.norm(gradient,2)<epsilon:\n",
    "      break\n",
    "  return(theta,l2loss)"
   ]
  },
  {
   "cell_type": "code",
   "execution_count": 147,
   "metadata": {},
   "outputs": [
    {
     "name": "stdout",
     "output_type": "stream",
     "text": [
      "theta (5, 1)\n",
      "X_train (15129, 5)\n",
      "Xnorm (5,)\n",
      "BG (5,)\n",
      "0.5101127525721408\n"
     ]
    }
   ],
   "source": [
    "y_train_gd = np.asmatrix(y_train.to_numpy())\n",
    "y_train_gd = y_train_gd.T\n",
    "Ynorm = np.linalg.norm(y_train_gd, axis=0)\n",
    "y_train_gd = y_train_gd/np.linalg.norm(y_train_gd, axis=0)\n",
    "X_train_gd = np.asmatrix(X_train.to_numpy())\n",
    "Xnorm = np.linalg.norm(X_train_gd, axis=0)\n",
    "X_train_gd = X_train_gd/np.linalg.norm(X_train_gd, axis=0)\n",
    "\n",
    "def Rsq(actual,pred):\n",
    "  rss = np.linalg.norm(actual - pred)**2\n",
    "  tss = np.linalg.norm(actual - np.mean(actual))**2\n",
    "  rsq = 1-rss/tss\n",
    "  return rsq\n",
    "\n",
    "BG = np.array(BG)\n",
    "BG = np.append(1,BG)\n",
    "\n",
    "\n",
    "##GD on training data without interaction\n",
    "theta,loss1 = GD(X_train_gd,y_train_gd,10000)\n",
    "print(\"theta\",theta.shape)\n",
    "print(\"X_train\", X_train.shape)\n",
    "print(\"Xnorm\", Xnorm.shape)\n",
    "print(\"BG\", BG.shape)\n",
    "print(Rsq(y_train_gd,X_train_gd@theta))"
   ]
  },
  {
   "cell_type": "code",
   "execution_count": 148,
   "metadata": {},
   "outputs": [
    {
     "name": "stdout",
     "output_type": "stream",
     "text": [
      "Predicted value: $15,424,575.02\n"
     ]
    }
   ],
   "source": [
    "BG_selected = np.array(BG[-5:])  # You may need to adjust this slicing\n",
    "BG_selected = BG_selected.reshape(1, -1)  # Shape (1, 5)\n",
    "\n",
    "Xnorm = Xnorm.reshape(1, -1)  # Shape (1, 5)\n",
    "BG_normalized = BG_selected / Xnorm\n",
    "prediction = (BG_normalized @ theta) * Ynorm\n",
    "print(f\"Predicted value: ${prediction.item():,.2f}\")"
   ]
  },
  {
   "cell_type": "code",
   "execution_count": 149,
   "metadata": {},
   "outputs": [
    {
     "data": {
      "text/plain": [
       "<matplotlib.legend.Legend at 0x16b1d6640>"
      ]
     },
     "execution_count": 149,
     "metadata": {},
     "output_type": "execute_result"
    },
    {
     "data": {
      "image/png": "[encoded data removed]",
      "text/plain": [
       "<Figure size 640x480 with 1 Axes>"
      ]
     },
     "metadata": {},
     "output_type": "display_data"
    }
   ],
   "source": [
    "import matplotlib.pylab as plt\n",
    "##loss v.s. iteration\n",
    "plt.cla()\n",
    "plt.plot(np.arange(1, loss1.shape[0]+1),loss1,color = 'g',label=\"without interaction\")\n",
    "plt.xlabel(\"iteration\")\n",
    "plt.ylabel(\"loss\")\n",
    "plt.legend(loc = \"best\")\n",
    "#plt.savefig(\"loss_no_int.png\")"
   ]
  },
  {
   "cell_type": "markdown",
   "metadata": {},
   "source": []
  },
  {
   "cell_type": "markdown",
   "metadata": {},
   "source": [
    "We implemented linear regression using gradient descent without any built-in linear modeling functions. The model converged after 852 iterations (changes every run) and achieved a training R² of 0.5101, closely matching the result from statsmodels.OLS. The predicted price for Bill Gates’ house was $15,424,035.16 (changes slighly every run ), nearly identical to the earlier estimate. This confirms our gradient descent implementation is accurate when using an appropriately chosen step size. Results were consistent with the previous model, demonstrating that gradient descent can effectively approximate the OLS solution.\n"
   ]
  },
  {
   "cell_type": "markdown",
   "metadata": {},
   "source": [
    "### Part E"
   ]
  },
  {
   "cell_type": "code",
   "execution_count": 150,
   "metadata": {},
   "outputs": [
    {
     "name": "stdout",
     "output_type": "stream",
     "text": [
      "0.5018543700107907\n"
     ]
    },
    {
     "data": {
      "text/plain": [
       "matrix([[15436017.63305929]])"
      ]
     },
     "execution_count": 150,
     "metadata": {},
     "output_type": "execute_result"
    }
   ],
   "source": [
    "##stochastic gradient descent\n",
    "def sgd(X,y,iters,c0):\n",
    "  n = y.shape[0]\n",
    "  ## initialize\n",
    "  epsilon = 0.0000001\n",
    "  theta = np.asmatrix(np.random.normal(size=X.shape[1])).T\n",
    "  t = 1\n",
    "  eta = c0/t\n",
    "  l2loss = np.linalg.norm(y - X*theta,2)\n",
    "  ##iteration\n",
    "  for i in np.arange(1, iters+1):\n",
    "    id = np.random.choice(np.arange(1,n+1),n,replace=False)\n",
    "    X = X[id-1,:]\n",
    "    y = y[id-1,:]\n",
    "    for j in np.arange(0, n):\n",
    "      X_j = (X[j,:]).T\n",
    "      gradient = X_j.reshape((5,1)) * (X_j.reshape((5,1)).T*theta - y[j,:])\n",
    "      theta = theta -  eta * gradient\n",
    "      t = t+1\n",
    "      eta = c0\n",
    "      l2loss = np.append(l2loss,np.linalg.norm(y - X*theta,2))\n",
    "      if np.linalg.norm(gradient,2)<epsilon:\n",
    "       break\n",
    "  return(theta,l2loss)\n",
    "\n",
    "\n",
    "#SGD without interaction\n",
    "theta,loss1 = sgd(X_train_gd,y_train_gd,30,100)\n",
    "print(Rsq(y_train_gd,X_train_gd*theta))\n",
    "np.asmatrix(BG)/Xnorm*theta*Ynorm"
   ]
  },
  {
   "cell_type": "code",
   "execution_count": 151,
   "metadata": {},
   "outputs": [
    {
     "data": {
      "image/png": "[encoded data removed]",
      "text/plain": [
       "<Figure size 640x480 with 1 Axes>"
      ]
     },
     "metadata": {},
     "output_type": "display_data"
    }
   ],
   "source": [
    "##loss v.s. iteration\n",
    "plt.cla()\n",
    "plt.plot(np.arange(1, loss1.shape[0]+1),loss1,color = 'g',label=\"without interaction\")\n",
    "plt.xlabel(\"iteration\")\n",
    "plt.ylabel(\"loss\")\n",
    "plt.legend(loc = \"best\")\n",
    "plt.savefig(\"sgd_no_int.png\")"
   ]
  }
 ],
 "metadata": {
  "kernelspec": {
   "display_name": "myenv",
   "language": "python",
   "name": "python3"
  },
  "language_info": {
   "codemirror_mode": {
    "name": "ipython",
    "version": 3
   },
   "file_extension": ".py",
   "mimetype": "text/x-python",
   "name": "python",
   "nbconvert_exporter": "python",
   "pygments_lexer": "ipython3",
   "version": "3.9.18"
  }
 },
 "nbformat": 4,
 "nbformat_minor": 2
}
