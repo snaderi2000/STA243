{
 "cells": [
  {
   "cell_type": "markdown",
   "metadata": {},
   "source": [
    "# Problem 3: Random Matrix Multiplication"
   ]
  },
  {
   "cell_type": "markdown",
   "metadata": {},
   "source": [
    "## (A)"
   ]
  },
  {
   "cell_type": "code",
   "execution_count": null,
   "metadata": {},
   "outputs": [],
   "source": [
    "import numpy as np\n",
    "import matplotlib.pyplot as plt\n",
    "import seaborn as sns\n",
    "import pandas as pd\n",
    "import math"
   ]
  },
  {
   "cell_type": "code",
   "execution_count": null,
   "metadata": {},
   "outputs": [],
   "source": [
    "class RandomMatrixMultiplication(): \n",
    "    \"\"\"\n",
    "    Implements Algorithm 2 dicussed in lecture to get a matrix M (mxp) from matrices A (mxn) and B (nxp).  \n",
    "    \"\"\"\n",
    "    def __init__(self, A: np.ndarray, B: np.ndarray, r: int,seed: int = None):\n",
    "        \"\"\"\n",
    "        Inputs:\n",
    "        - A: (m x n) matrix\n",
    "        - B: (n x p) matrix\n",
    "        - r: number of samples (positive integer)\n",
    "        - p: probability vector of length n, summing to 1\n",
    "        \"\"\"\n",
    "\n",
    "        if seed is not None:\n",
    "            np.random.seed(seed)\n",
    "\n",
    "        m, n = A.shape\n",
    "        n_B, p = B.shape\n",
    "\n",
    "        # Make sure that the shape of the matrices match the required inputs and r postive integer \n",
    "        if n != n_B:\n",
    "            raise ValueError(f\"Wrong matrix dimension: A.shape = {A.shape}, B.shape = {B.shape}\")\n",
    "        if r <= 0 or not isinstance(r, int):\n",
    "            raise ValueError(\"r must be a positive integer\")\n",
    " \n",
    "        self.A = A \n",
    "        self.B = B\n",
    "        self.r = r \n",
    "        self.m = m \n",
    "        self.n = n \n",
    "        self.p = p\n",
    "        self.probabilities = self.compute_optimal_probabilities()\n",
    "\n",
    "    def compute_optimal_probabilities(self) -> np.ndarray:\n",
    "        \"\"\"\n",
    "        We use non-uniform sampling explained on slide 19 of lectures\n",
    "        \"\"\"\n",
    "        probs = np.array([\n",
    "            np.linalg.norm(self.A[:,k]) * np.linalg.norm(self.B[k,:])\n",
    "            for k in range(self.n) \n",
    "        ]) \n",
    "\n",
    "        probs_sum = probs.sum()        \n",
    "\n",
    "        if np.isclose(probs_sum, 0):\n",
    "            raise ValueError(\"probs must sum to 1\")\n",
    "\n",
    "        return probs / probs_sum\n",
    "\n",
    "\n",
    "    def sample_indices(self) -> np.ndarray:\n",
    "        \"\"\"\n",
    "        This method will sample r indices i1,...,ir which are elements of {0,...,n-1} iid with probablity p{il =k } = pk because python uses indexing. This is a minor deviation from the slides. \n",
    "        \"\"\"\n",
    "        return np.random.choice(self.n, size = self.r, replace = True, p = self.probabilities)\n",
    "\n",
    "    def compute(self) -> np.ndarray:\n",
    "        \"\"\"\n",
    "        actually do the approximation to get the matrix M\n",
    "        \"\"\"\n",
    "        M = np.zeros((self.m, self.p)) # Intialize blank matrix\n",
    "        indices = self.sample_indices()\n",
    "\n",
    "        for i in indices: \n",
    "            A_col = self.A[:, i].reshape(self.m,1) # (m,1)\n",
    "            B_row = self.B[i, :].reshape(1, self.p) # (1,p)\n",
    "            M += (1 / self.probabilities[i]) * ( A_col @ B_row)\n",
    "\n",
    "        M /= self.r \n",
    "        return M    \n",
    "\n",
    "    "
   ]
  },
  {
   "cell_type": "markdown",
   "metadata": {},
   "source": [
    "## (b)"
   ]
  },
  {
   "cell_type": "code",
   "execution_count": null,
   "metadata": {},
   "outputs": [],
   "source": [
    "A = pd.read_csv('/Users/shawheennaderi/Downloads/STA243_homework_1_matrix_A.csv', header= None)\n",
    "B = pd.read_csv('/Users/shawheennaderi/Downloads/STA243_homework_1_matrix_B.csv', header= None) \n"
   ]
  },
  {
   "cell_type": "code",
   "execution_count": null,
   "metadata": {},
   "outputs": [],
   "source": [
    "A.head() "
   ]
  },
  {
   "cell_type": "code",
   "execution_count": null,
   "metadata": {},
   "outputs": [],
   "source": [
    "M_true = A @ B"
   ]
  },
  {
   "cell_type": "code",
   "execution_count": null,
   "metadata": {},
   "outputs": [],
   "source": [
    "M_true.head()"
   ]
  },
  {
   "cell_type": "code",
   "execution_count": null,
   "metadata": {},
   "outputs": [],
   "source": [
    "r_values = [20, 50, 100, 200]\n",
    "approximations = {}\n",
    "\n",
    "# Convert pandas to numpy \n",
    "A = np.array(A)\n",
    "B = np.array(B)\n",
    "\n",
    "for r in r_values:\n",
    "    print(f\"\\nRunning r = {r}...\")\n",
    "    rmm = RandomMatrixMultiplication(A, B, r=r, seed=42)\n",
    "    M_approx = rmm.compute()\n",
    "    approximations[r] = M_approx\n"
   ]
  },
  {
   "cell_type": "markdown",
   "metadata": {},
   "source": [
    "## (c)"
   ]
  },
  {
   "cell_type": "code",
   "execution_count": null,
   "metadata": {},
   "outputs": [],
   "source": [
    "norm_A = np.linalg.norm(A, ord='fro')\n",
    "norm_B = np.linalg.norm(B, ord='fro')\n",
    "denominator = norm_A * norm_B\n",
    "\n",
    "results = []\n",
    "\n",
    "for r in r_values:\n",
    "    M_approx = approximations[r]\n",
    "    numerator = np.linalg.norm(M_approx - M_true, ord='fro')\n",
    "    relative_error = numerator / denominator\n",
    "    results.append({\"r\": r, \"Relative Error\": relative_error})"
   ]
  },
  {
   "cell_type": "code",
   "execution_count": null,
   "metadata": {},
   "outputs": [],
   "source": [
    "df_results = pd.DataFrame(results)\n",
    "print(df_results.to_string(index=False))"
   ]
  },
  {
   "cell_type": "markdown",
   "metadata": {},
   "source": [
    "## (d)"
   ]
  },
  {
   "cell_type": "code",
   "execution_count": null,
   "metadata": {},
   "outputs": [],
   "source": [
    "plt.figure(figsize=(16, 18))\n",
    "\n",
    "# Plot M_true first\n",
    "plt.subplot(3, 2, 1)\n",
    "sns.heatmap(M_true, cmap='viridis', cbar=False)\n",
    "plt.title(\"True Matrix Product AB\")\n",
    "plt.xlabel(\"Columns\")\n",
    "plt.ylabel(\"Rows\")\n",
    "\n",
    "# Plot approximations for each r\n",
    "for i, r in enumerate(r_values):\n",
    "    plt.subplot(3, 2, i+2)  # start from slot 2\n",
    "    sns.heatmap(approximations[r], cmap='viridis', cbar=False)\n",
    "    plt.title(f\"Approximate M (r = {r})\")\n",
    "    plt.xlabel(\"Columns\")\n",
    "    plt.ylabel(\"Rows\")\n",
    "\n",
    "plt.tight_layout()\n",
    "plt.suptitle(\"Matrix Multiplication Approximation (with True AB)\", fontsize=18, y=1.03)\n",
    "plt.show()\n"
   ]
  },
  {
   "cell_type": "markdown",
   "metadata": {},
   "source": []
  }
 ],
 "metadata": {
  "kernelspec": {
   "display_name": "myenv",
   "language": "python",
   "name": "python3"
  },
  "language_info": {
   "codemirror_mode": {
    "name": "ipython",
    "version": 3
   },
   "file_extension": ".py",
   "mimetype": "text/x-python",
   "name": "python",
   "nbconvert_exporter": "python",
   "pygments_lexer": "ipython3",
   "version": "3.9.21"
  }
 },
 "nbformat": 4,
 "nbformat_minor": 2
}
